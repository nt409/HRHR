{
 "cells": [
  {
   "cell_type": "markdown",
   "id": "04caad36-a16d-4093-9b18-fb221a673818",
   "metadata": {},
   "source": [
    "# Param scan analysis\n",
    "\n",
    "Brief analysis of things"
   ]
  },
  {
   "cell_type": "code",
   "execution_count": 2,
   "id": "d43a018e-7b41-45c9-8d98-3b292c8b48ae",
   "metadata": {},
   "outputs": [],
   "source": [
    "%load_ext autoreload\n",
    "%autoreload 2"
   ]
  },
  {
   "cell_type": "code",
   "execution_count": 3,
   "id": "d9338248-af85-4ffb-8b75-ba80b7a5a430",
   "metadata": {},
   "outputs": [],
   "source": [
    "%matplotlib widget"
   ]
  },
  {
   "cell_type": "code",
   "execution_count": 4,
   "id": "a605f00a-5832-46d3-9cd0-3dc3ee4638ba",
   "metadata": {},
   "outputs": [],
   "source": [
    "import matplotlib.pyplot as plt\n",
    "import numpy as np\n",
    "\n",
    "from plotting.paper_figs import ParamScanPlotMeVsHobb\n",
    "from param_scan.fns.config import config_rand\n",
    "from param_scan.fns.post_process import PostProcess"
   ]
  },
  {
   "cell_type": "markdown",
   "id": "512fe93c-dc87-4a35-9976-bde29fce3d97",
   "metadata": {},
   "source": [
    "# Get processed param scan df"
   ]
  },
  {
   "cell_type": "code",
   "execution_count": 5,
   "id": "492ed3ee-61a3-40b7-b38c-70f7082934ad",
   "metadata": {},
   "outputs": [],
   "source": [
    "par_str = config_rand['par_str']"
   ]
  },
  {
   "cell_type": "code",
   "execution_count": 6,
   "id": "4d3a769a-9c81-4001-9afe-6f25c4caad36",
   "metadata": {},
   "outputs": [],
   "source": [
    "data = PostProcess(par_str, '../src/param_scan/outputs').processed_df"
   ]
  },
  {
   "cell_type": "code",
   "execution_count": 7,
   "id": "b2e0ecd0-d5d2-41bd-865e-f01ecdcac364",
   "metadata": {},
   "outputs": [
    {
     "data": {
      "text/html": [
       "<div>\n",
       "<style scoped>\n",
       "    .dataframe tbody tr th:only-of-type {\n",
       "        vertical-align: middle;\n",
       "    }\n",
       "\n",
       "    .dataframe tbody tr th {\n",
       "        vertical-align: top;\n",
       "    }\n",
       "\n",
       "    .dataframe thead th {\n",
       "        text-align: right;\n",
       "    }\n",
       "</style>\n",
       "<table border=\"1\" class=\"dataframe\">\n",
       "  <thead>\n",
       "    <tr style=\"text-align: right;\">\n",
       "      <th></th>\n",
       "      <th>run</th>\n",
       "      <th>omega_1</th>\n",
       "      <th>omega_2</th>\n",
       "      <th>theta_1</th>\n",
       "      <th>theta_2</th>\n",
       "      <th>delta_1</th>\n",
       "      <th>delta_2</th>\n",
       "      <th>RR</th>\n",
       "      <th>RS</th>\n",
       "      <th>SR</th>\n",
       "      <th>...</th>\n",
       "      <th>maxAlongContour</th>\n",
       "      <th>c_R_maxCont%</th>\n",
       "      <th>c_E_maxCont%</th>\n",
       "      <th>c_E_lowDoseMax%</th>\n",
       "      <th>min_corner</th>\n",
       "      <th>ERFB_diff_from_opt</th>\n",
       "      <th>ESFY_diff_from_opt</th>\n",
       "      <th>ESFYL_diff_from_opt</th>\n",
       "      <th>strategy_diff</th>\n",
       "      <th>sing_freq_diff</th>\n",
       "    </tr>\n",
       "    <tr>\n",
       "      <th>run</th>\n",
       "      <th></th>\n",
       "      <th></th>\n",
       "      <th></th>\n",
       "      <th></th>\n",
       "      <th></th>\n",
       "      <th></th>\n",
       "      <th></th>\n",
       "      <th></th>\n",
       "      <th></th>\n",
       "      <th></th>\n",
       "      <th></th>\n",
       "      <th></th>\n",
       "      <th></th>\n",
       "      <th></th>\n",
       "      <th></th>\n",
       "      <th></th>\n",
       "      <th></th>\n",
       "      <th></th>\n",
       "      <th></th>\n",
       "      <th></th>\n",
       "      <th></th>\n",
       "    </tr>\n",
       "  </thead>\n",
       "  <tbody>\n",
       "    <tr>\n",
       "      <th>0</th>\n",
       "      <td>0</td>\n",
       "      <td>0.810302</td>\n",
       "      <td>0.577590</td>\n",
       "      <td>4.455443</td>\n",
       "      <td>9.199093</td>\n",
       "      <td>0.005928</td>\n",
       "      <td>0.006016</td>\n",
       "      <td>8.218276e-12</td>\n",
       "      <td>1.178267e-08</td>\n",
       "      <td>1.327527e-08</td>\n",
       "      <td>...</td>\n",
       "      <td>True</td>\n",
       "      <td>100.0</td>\n",
       "      <td>100.000000</td>\n",
       "      <td>100.000000</td>\n",
       "      <td>7</td>\n",
       "      <td>0</td>\n",
       "      <td>0</td>\n",
       "      <td>0.0</td>\n",
       "      <td>0</td>\n",
       "      <td>1.492599e-09</td>\n",
       "    </tr>\n",
       "    <tr>\n",
       "      <th>1</th>\n",
       "      <td>1</td>\n",
       "      <td>0.964928</td>\n",
       "      <td>0.962023</td>\n",
       "      <td>6.362392</td>\n",
       "      <td>11.416930</td>\n",
       "      <td>0.010140</td>\n",
       "      <td>0.004924</td>\n",
       "      <td>1.307504e-15</td>\n",
       "      <td>2.328451e-06</td>\n",
       "      <td>1.197339e-07</td>\n",
       "      <td>...</td>\n",
       "      <td>True</td>\n",
       "      <td>100.0</td>\n",
       "      <td>94.117647</td>\n",
       "      <td>94.117647</td>\n",
       "      <td>5</td>\n",
       "      <td>0</td>\n",
       "      <td>-1</td>\n",
       "      <td>-1.0</td>\n",
       "      <td>1</td>\n",
       "      <td>2.208717e-06</td>\n",
       "    </tr>\n",
       "  </tbody>\n",
       "</table>\n",
       "<p>2 rows × 36 columns</p>\n",
       "</div>"
      ],
      "text/plain": [
       "     run   omega_1   omega_2   theta_1    theta_2   delta_1   delta_2  \\\n",
       "run                                                                     \n",
       "0      0  0.810302  0.577590  4.455443   9.199093  0.005928  0.006016   \n",
       "1      1  0.964928  0.962023  6.362392  11.416930  0.010140  0.004924   \n",
       "\n",
       "               RR            RS            SR  ...  maxAlongContour  \\\n",
       "run                                            ...                    \n",
       "0    8.218276e-12  1.178267e-08  1.327527e-08  ...             True   \n",
       "1    1.307504e-15  2.328451e-06  1.197339e-07  ...             True   \n",
       "\n",
       "     c_R_maxCont%  c_E_maxCont%  c_E_lowDoseMax%  min_corner  \\\n",
       "run                                                            \n",
       "0           100.0    100.000000       100.000000           7   \n",
       "1           100.0     94.117647        94.117647           5   \n",
       "\n",
       "     ERFB_diff_from_opt  ESFY_diff_from_opt  ESFYL_diff_from_opt  \\\n",
       "run                                                                \n",
       "0                     0                   0                  0.0   \n",
       "1                     0                  -1                 -1.0   \n",
       "\n",
       "     strategy_diff  sing_freq_diff  \n",
       "run                                 \n",
       "0                0    1.492599e-09  \n",
       "1                1    2.208717e-06  \n",
       "\n",
       "[2 rows x 36 columns]"
      ]
     },
     "execution_count": 7,
     "metadata": {},
     "output_type": "execute_result"
    }
   ],
   "source": [
    "data_use = (\n",
    "    data\n",
    "    .rename(columns={\n",
    "        'c_E_maxContEL': 'ESFY_max',\n",
    "        'c_R_maxContEL': 'ERFB_max',\n",
    "    })\n",
    "    .assign(strategy_diff = lambda df: df.ERFB_max - df.ESFY_max)\n",
    "    .assign(sing_freq_diff = lambda df: np.abs(df.RS - df.SR))\n",
    ")\n",
    "\n",
    "data_use.head(2)"
   ]
  },
  {
   "cell_type": "markdown",
   "id": "dcdd391f-180a-4aed-9e82-b35cbc1d8e02",
   "metadata": {},
   "source": [
    "# Mean difference between stategies\n",
    "\n",
    "For sufficiently different single resistant frequencies"
   ]
  },
  {
   "cell_type": "code",
   "execution_count": 157,
   "id": "2efbd9a3-9db5-4279-a727-edc0302596ec",
   "metadata": {},
   "outputs": [],
   "source": [
    "plt.close('all')"
   ]
  },
  {
   "cell_type": "code",
   "execution_count": 163,
   "id": "5b56ac9e-d5bb-4364-b89a-78569471b060",
   "metadata": {},
   "outputs": [
    {
     "data": {
      "text/html": [
       "<div>\n",
       "<style scoped>\n",
       "    .dataframe tbody tr th:only-of-type {\n",
       "        vertical-align: middle;\n",
       "    }\n",
       "\n",
       "    .dataframe tbody tr th {\n",
       "        vertical-align: top;\n",
       "    }\n",
       "\n",
       "    .dataframe thead th {\n",
       "        text-align: right;\n",
       "    }\n",
       "</style>\n",
       "<table border=\"1\" class=\"dataframe\">\n",
       "  <thead>\n",
       "    <tr style=\"text-align: right;\">\n",
       "      <th></th>\n",
       "      <th>ESFY_max</th>\n",
       "      <th>ERFB_max</th>\n",
       "      <th>sing_freq_diff</th>\n",
       "      <th>strategy_diff</th>\n",
       "      <th>pc_diff</th>\n",
       "    </tr>\n",
       "  </thead>\n",
       "  <tbody>\n",
       "    <tr>\n",
       "      <th>count</th>\n",
       "      <td>118.000000</td>\n",
       "      <td>118.000000</td>\n",
       "      <td>118.000000</td>\n",
       "      <td>118.000000</td>\n",
       "      <td>118.000000</td>\n",
       "    </tr>\n",
       "    <tr>\n",
       "      <th>mean</th>\n",
       "      <td>9.737288</td>\n",
       "      <td>10.745763</td>\n",
       "      <td>0.000379</td>\n",
       "      <td>1.008475</td>\n",
       "      <td>7.613345</td>\n",
       "    </tr>\n",
       "    <tr>\n",
       "      <th>std</th>\n",
       "      <td>2.390966</td>\n",
       "      <td>3.192369</td>\n",
       "      <td>0.000245</td>\n",
       "      <td>1.165719</td>\n",
       "      <td>8.164193</td>\n",
       "    </tr>\n",
       "    <tr>\n",
       "      <th>min</th>\n",
       "      <td>5.000000</td>\n",
       "      <td>5.000000</td>\n",
       "      <td>0.000101</td>\n",
       "      <td>0.000000</td>\n",
       "      <td>0.000000</td>\n",
       "    </tr>\n",
       "    <tr>\n",
       "      <th>25%</th>\n",
       "      <td>8.000000</td>\n",
       "      <td>8.000000</td>\n",
       "      <td>0.000183</td>\n",
       "      <td>0.000000</td>\n",
       "      <td>0.000000</td>\n",
       "    </tr>\n",
       "    <tr>\n",
       "      <th>50%</th>\n",
       "      <td>10.000000</td>\n",
       "      <td>11.000000</td>\n",
       "      <td>0.000286</td>\n",
       "      <td>1.000000</td>\n",
       "      <td>7.692308</td>\n",
       "    </tr>\n",
       "    <tr>\n",
       "      <th>75%</th>\n",
       "      <td>11.000000</td>\n",
       "      <td>13.000000</td>\n",
       "      <td>0.000547</td>\n",
       "      <td>2.000000</td>\n",
       "      <td>14.285714</td>\n",
       "    </tr>\n",
       "    <tr>\n",
       "      <th>max</th>\n",
       "      <td>15.000000</td>\n",
       "      <td>18.000000</td>\n",
       "      <td>0.000991</td>\n",
       "      <td>4.000000</td>\n",
       "      <td>28.571429</td>\n",
       "    </tr>\n",
       "  </tbody>\n",
       "</table>\n",
       "</div>"
      ],
      "text/plain": [
       "         ESFY_max    ERFB_max  sing_freq_diff  strategy_diff     pc_diff\n",
       "count  118.000000  118.000000      118.000000     118.000000  118.000000\n",
       "mean     9.737288   10.745763        0.000379       1.008475    7.613345\n",
       "std      2.390966    3.192369        0.000245       1.165719    8.164193\n",
       "min      5.000000    5.000000        0.000101       0.000000    0.000000\n",
       "25%      8.000000    8.000000        0.000183       0.000000    0.000000\n",
       "50%     10.000000   11.000000        0.000286       1.000000    7.692308\n",
       "75%     11.000000   13.000000        0.000547       2.000000   14.285714\n",
       "max     15.000000   18.000000        0.000991       4.000000   28.571429"
      ]
     },
     "execution_count": 163,
     "metadata": {},
     "output_type": "execute_result"
    }
   ],
   "source": [
    "for_paper = (\n",
    "    data_use\n",
    "    .loc[:, ['ESFY_max', 'ERFB_max', 'sing_freq_diff', 'strategy_diff']]\n",
    "    .assign(pc_diff = lambda df: 100*df.strategy_diff/df.ERFB_max)\n",
    "    .loc[lambda df: df.sing_freq_diff>0.0001]\n",
    "    .describe()\n",
    ")\n",
    "\n",
    "for_paper"
   ]
  },
  {
   "cell_type": "code",
   "execution_count": 164,
   "id": "e6d82c0c-b44a-4bd4-b701-224f36571523",
   "metadata": {},
   "outputs": [
    {
     "data": {
      "text/html": [
       "<div>\n",
       "<style scoped>\n",
       "    .dataframe tbody tr th:only-of-type {\n",
       "        vertical-align: middle;\n",
       "    }\n",
       "\n",
       "    .dataframe tbody tr th {\n",
       "        vertical-align: top;\n",
       "    }\n",
       "\n",
       "    .dataframe thead th {\n",
       "        text-align: right;\n",
       "    }\n",
       "</style>\n",
       "<table border=\"1\" class=\"dataframe\">\n",
       "  <thead>\n",
       "    <tr style=\"text-align: right;\">\n",
       "      <th></th>\n",
       "      <th>ESFY_max</th>\n",
       "      <th>ERFB_max</th>\n",
       "      <th>sing_freq_diff</th>\n",
       "      <th>strategy_diff</th>\n",
       "      <th>pc_diff</th>\n",
       "    </tr>\n",
       "  </thead>\n",
       "  <tbody>\n",
       "    <tr>\n",
       "      <th>count</th>\n",
       "      <td>118.000000</td>\n",
       "      <td>118.000000</td>\n",
       "      <td>118.000000</td>\n",
       "      <td>118.000000</td>\n",
       "      <td>118.000000</td>\n",
       "    </tr>\n",
       "    <tr>\n",
       "      <th>mean</th>\n",
       "      <td>9.737288</td>\n",
       "      <td>10.745763</td>\n",
       "      <td>0.000379</td>\n",
       "      <td>1.008475</td>\n",
       "      <td>7.613345</td>\n",
       "    </tr>\n",
       "    <tr>\n",
       "      <th>min</th>\n",
       "      <td>5.000000</td>\n",
       "      <td>5.000000</td>\n",
       "      <td>0.000101</td>\n",
       "      <td>0.000000</td>\n",
       "      <td>0.000000</td>\n",
       "    </tr>\n",
       "    <tr>\n",
       "      <th>max</th>\n",
       "      <td>15.000000</td>\n",
       "      <td>18.000000</td>\n",
       "      <td>0.000991</td>\n",
       "      <td>4.000000</td>\n",
       "      <td>28.571429</td>\n",
       "    </tr>\n",
       "  </tbody>\n",
       "</table>\n",
       "</div>"
      ],
      "text/plain": [
       "         ESFY_max    ERFB_max  sing_freq_diff  strategy_diff     pc_diff\n",
       "count  118.000000  118.000000      118.000000     118.000000  118.000000\n",
       "mean     9.737288   10.745763        0.000379       1.008475    7.613345\n",
       "min      5.000000    5.000000        0.000101       0.000000    0.000000\n",
       "max     15.000000   18.000000        0.000991       4.000000   28.571429"
      ]
     },
     "execution_count": 164,
     "metadata": {},
     "output_type": "execute_result"
    }
   ],
   "source": [
    "for_paper.loc[['count', 'mean', 'min', 'max']]"
   ]
  },
  {
   "cell_type": "code",
   "execution_count": 145,
   "id": "a9312195-4b95-49bd-957e-dfaf04fd5548",
   "metadata": {},
   "outputs": [
    {
     "data": {
      "text/plain": [
       "<AxesSubplot:ylabel='Frequency'>"
      ]
     },
     "execution_count": 145,
     "metadata": {},
     "output_type": "execute_result"
    },
    {
     "data": {
      "application/vnd.jupyter.widget-view+json": {
       "model_id": "7e510ddf53c6490da2b8bfd67cb51830",
       "version_major": 2,
       "version_minor": 0
      },
      "image/png": "[encoded data removed]",
      "text/html": [
       "\n",
       "            <div style=\"display: inline-block;\">\n",
       "                <div class=\"jupyter-widgets widget-label\" style=\"text-align: center;\">\n",
       "                    Figure\n",
       "                </div>\n",
       "                <img src='data:image/png;base64,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' width=640.0/>\n",
       "            </div>\n",
       "        "
      ],
      "text/plain": [
       "Canvas(toolbar=Toolbar(toolitems=[('Home', 'Reset original view', 'home', 'home'), ('Back', 'Back to previous …"
      ]
     },
     "metadata": {},
     "output_type": "display_data"
    }
   ],
   "source": [
    "(\n",
    "    data_use\n",
    "    .loc[lambda df: df.sing_freq_diff>0.0001]\n",
    "    .loc[:, ['strategy_diff']]\n",
    "    .plot.hist(bins = np.arange(-0.25, 4.25 + 0.5, 0.5))\n",
    ")"
   ]
  },
  {
   "cell_type": "code",
   "execution_count": 162,
   "id": "02ad99ce-d6d5-4d6d-8185-eaefc786d475",
   "metadata": {},
   "outputs": [
    {
     "data": {
      "text/plain": [
       "0    116\n",
       "1      2\n",
       "Name: diff_from_opt, dtype: int64"
      ]
     },
     "execution_count": 162,
     "metadata": {},
     "output_type": "execute_result"
    }
   ],
   "source": [
    "(\n",
    "    data_use\n",
    "    .assign(diff_from_opt = lambda df: df.max_grid_EL - df.ERFB_max)\n",
    "    .loc[lambda df: df.sing_freq_diff>0.0001]\n",
    "    .diff_from_opt\n",
    "    .value_counts()\n",
    "    # .plot.hist()\n",
    ")"
   ]
  },
  {
   "cell_type": "markdown",
   "id": "b7ba8067-be07-4059-9958-b8e9854afff7",
   "metadata": {},
   "source": [
    "# Benefit by proportion of sex"
   ]
  },
  {
   "cell_type": "code",
   "execution_count": 107,
   "id": "baab8dc0-c147-484a-9e78-2f6732ace321",
   "metadata": {},
   "outputs": [
    {
     "data": {
      "text/plain": [
       "<AxesSubplot:xlabel='sr_prop', ylabel='strategy_diff'>"
      ]
     },
     "execution_count": 107,
     "metadata": {},
     "output_type": "execute_result"
    },
    {
     "data": {
      "application/vnd.jupyter.widget-view+json": {
       "model_id": "a8507bec2c8c44c2bb067f51aa62e126",
       "version_major": 2,
       "version_minor": 0
      },
      "image/png": "[encoded data removed]",
      "text/html": [
       "\n",
       "            <div style=\"display: inline-block;\">\n",
       "                <div class=\"jupyter-widgets widget-label\" style=\"text-align: center;\">\n",
       "                    Figure\n",
       "                </div>\n",
       "                <img src='data:image/png;base64,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' width=640.0/>\n",
       "            </div>\n",
       "        "
      ],
      "text/plain": [
       "Canvas(toolbar=Toolbar(toolitems=[('Home', 'Reset original view', 'home', 'home'), ('Back', 'Back to previous …"
      ]
     },
     "metadata": {},
     "output_type": "display_data"
    }
   ],
   "source": [
    "(\n",
    "    data_use\n",
    "    # .corr()\n",
    "    # .loc[['sr_prop'], ['strategy_diff']]\n",
    "    .plot.scatter(x='sr_prop', y='strategy_diff', alpha=0.2)\n",
    ")"
   ]
  },
  {
   "cell_type": "markdown",
   "id": "25f423bd-b48e-4401-b013-d194e3cfb077",
   "metadata": {},
   "source": [
    "# Failed runs"
   ]
  },
  {
   "cell_type": "code",
   "execution_count": 8,
   "id": "8904996a-9330-4184-ad0e-d3b944d1ea3a",
   "metadata": {},
   "outputs": [
    {
     "data": {
      "text/html": [
       "<div>\n",
       "<style scoped>\n",
       "    .dataframe tbody tr th:only-of-type {\n",
       "        vertical-align: middle;\n",
       "    }\n",
       "\n",
       "    .dataframe tbody tr th {\n",
       "        vertical-align: top;\n",
       "    }\n",
       "\n",
       "    .dataframe thead th {\n",
       "        text-align: right;\n",
       "    }\n",
       "</style>\n",
       "<table border=\"1\" class=\"dataframe\">\n",
       "  <thead>\n",
       "    <tr style=\"text-align: right;\">\n",
       "      <th>run</th>\n",
       "      <th>91</th>\n",
       "      <th>183</th>\n",
       "      <th>227</th>\n",
       "      <th>241</th>\n",
       "      <th>478</th>\n",
       "    </tr>\n",
       "  </thead>\n",
       "  <tbody>\n",
       "    <tr>\n",
       "      <th>omega_1</th>\n",
       "      <td>4.923172e-01</td>\n",
       "      <td>8.124905e-01</td>\n",
       "      <td>8.152626e-01</td>\n",
       "      <td>8.145264e-01</td>\n",
       "      <td>9.241962e-01</td>\n",
       "    </tr>\n",
       "    <tr>\n",
       "      <th>omega_2</th>\n",
       "      <td>6.377302e-01</td>\n",
       "      <td>6.927804e-01</td>\n",
       "      <td>6.751034e-01</td>\n",
       "      <td>8.069685e-01</td>\n",
       "      <td>9.308588e-01</td>\n",
       "    </tr>\n",
       "    <tr>\n",
       "      <th>theta_1</th>\n",
       "      <td>6.816520e+00</td>\n",
       "      <td>2.951951e+00</td>\n",
       "      <td>1.025926e+01</td>\n",
       "      <td>7.407919e+00</td>\n",
       "      <td>4.753716e+00</td>\n",
       "    </tr>\n",
       "    <tr>\n",
       "      <th>theta_2</th>\n",
       "      <td>9.333866e+00</td>\n",
       "      <td>7.009989e+00</td>\n",
       "      <td>3.628018e+00</td>\n",
       "      <td>9.627502e+00</td>\n",
       "      <td>1.008394e+01</td>\n",
       "    </tr>\n",
       "    <tr>\n",
       "      <th>delta_1</th>\n",
       "      <td>3.854415e-03</td>\n",
       "      <td>4.001384e-03</td>\n",
       "      <td>1.315202e-02</td>\n",
       "      <td>1.155997e-02</td>\n",
       "      <td>1.222725e-02</td>\n",
       "    </tr>\n",
       "    <tr>\n",
       "      <th>delta_2</th>\n",
       "      <td>9.849157e-03</td>\n",
       "      <td>6.770757e-03</td>\n",
       "      <td>5.064948e-03</td>\n",
       "      <td>4.592757e-03</td>\n",
       "      <td>4.933168e-03</td>\n",
       "    </tr>\n",
       "    <tr>\n",
       "      <th>RR</th>\n",
       "      <td>7.540441e-08</td>\n",
       "      <td>1.165713e-09</td>\n",
       "      <td>1.679725e-09</td>\n",
       "      <td>3.379948e-09</td>\n",
       "      <td>2.632505e-10</td>\n",
       "    </tr>\n",
       "    <tr>\n",
       "      <th>RS</th>\n",
       "      <td>2.332734e-05</td>\n",
       "      <td>5.311738e-10</td>\n",
       "      <td>2.214624e-09</td>\n",
       "      <td>8.008551e-09</td>\n",
       "      <td>1.153372e-09</td>\n",
       "    </tr>\n",
       "    <tr>\n",
       "      <th>SR</th>\n",
       "      <td>2.697823e-06</td>\n",
       "      <td>1.312246e-10</td>\n",
       "      <td>5.736566e-04</td>\n",
       "      <td>2.206591e-05</td>\n",
       "      <td>5.557970e-08</td>\n",
       "    </tr>\n",
       "    <tr>\n",
       "      <th>SS</th>\n",
       "      <td>9.999739e-01</td>\n",
       "      <td>1.000000e+00</td>\n",
       "      <td>9.994263e-01</td>\n",
       "      <td>9.999779e-01</td>\n",
       "      <td>9.999999e-01</td>\n",
       "    </tr>\n",
       "    <tr>\n",
       "      <th>sr_prop</th>\n",
       "      <td>6.347437e-01</td>\n",
       "      <td>6.778327e-01</td>\n",
       "      <td>4.881077e-01</td>\n",
       "      <td>2.826246e-01</td>\n",
       "      <td>1.081963e-01</td>\n",
       "    </tr>\n",
       "  </tbody>\n",
       "</table>\n",
       "</div>"
      ],
      "text/plain": [
       "run               91            183           227           241           478\n",
       "omega_1  4.923172e-01  8.124905e-01  8.152626e-01  8.145264e-01  9.241962e-01\n",
       "omega_2  6.377302e-01  6.927804e-01  6.751034e-01  8.069685e-01  9.308588e-01\n",
       "theta_1  6.816520e+00  2.951951e+00  1.025926e+01  7.407919e+00  4.753716e+00\n",
       "theta_2  9.333866e+00  7.009989e+00  3.628018e+00  9.627502e+00  1.008394e+01\n",
       "delta_1  3.854415e-03  4.001384e-03  1.315202e-02  1.155997e-02  1.222725e-02\n",
       "delta_2  9.849157e-03  6.770757e-03  5.064948e-03  4.592757e-03  4.933168e-03\n",
       "RR       7.540441e-08  1.165713e-09  1.679725e-09  3.379948e-09  2.632505e-10\n",
       "RS       2.332734e-05  5.311738e-10  2.214624e-09  8.008551e-09  1.153372e-09\n",
       "SR       2.697823e-06  1.312246e-10  5.736566e-04  2.206591e-05  5.557970e-08\n",
       "SS       9.999739e-01  1.000000e+00  9.994263e-01  9.999779e-01  9.999999e-01\n",
       "sr_prop  6.347437e-01  6.778327e-01  4.881077e-01  2.826246e-01  1.081963e-01"
      ]
     },
     "execution_count": 8,
     "metadata": {},
     "output_type": "execute_result"
    }
   ],
   "source": [
    "(\n",
    "    data_use\n",
    "    \n",
    "    .assign(ED = lambda df: df.max_grid_EL - df.ERFB_max)\n",
    "    .loc[lambda df: df.ED>0]\n",
    "    .iloc[:, np.arange(12)]\n",
    "    .drop('run', axis=1)\n",
    "    .drop([10, 116, 295])\n",
    "    .T\n",
    "    # .assign(ED2 = lambda df: df.ERFB_diff_from_opt + df.ED)\n",
    "    # .describe()\n",
    "    # .loc[['min', 'max']]\n",
    "    # .T\n",
    "    # .hist(\n",
    ")"
   ]
  },
  {
   "cell_type": "code",
   "execution_count": null,
   "id": "a0d0a7bb-150f-4f61-8691-6a081572e9fc",
   "metadata": {},
   "outputs": [],
   "source": []
  }
 ],
 "metadata": {
  "kernelspec": {
   "display_name": "Python 3 (ipykernel)",
   "language": "python",
   "name": "python3"
  },
  "language_info": {
   "codemirror_mode": {
    "name": "ipython",
    "version": 3
   },
   "file_extension": ".py",
   "mimetype": "text/x-python",
   "name": "python",
   "nbconvert_exporter": "python",
   "pygments_lexer": "ipython3",
   "version": "3.9.7"
  }
 },
 "nbformat": 4,
 "nbformat_minor": 5
}
